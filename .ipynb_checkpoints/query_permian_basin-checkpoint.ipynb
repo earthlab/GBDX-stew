{
 "cells": [
  {
   "cell_type": "code",
   "execution_count": 2,
   "metadata": {},
   "outputs": [],
   "source": [
    "# only to display all columns if needed\n",
    "import pandas as pd\n",
    "pd.options.display.max_columns = None\n",
    "\n",
    "import geopandas as gpd"
   ]
  },
  {
   "cell_type": "markdown",
   "metadata": {},
   "source": [
    "# Load a sample shapefile and plot it\n",
    "Permian Basin shapefile downloaded from: http://www.beg.utexas.edu/resprog/permianbasin/gis.htm"
   ]
  },
  {
   "cell_type": "code",
   "execution_count": 4,
   "metadata": {},
   "outputs": [
    {
     "data": {
      "text/plain": [
       "<matplotlib.axes._subplots.AxesSubplot at 0x1ba0c895710>"
      ]
     },
     "execution_count": 4,
     "metadata": {},
     "output_type": "execute_result"
    }
   ],
   "source": [
    "shp = '../../permian_basin/PBGSP_GIS/GIS_data/Boundary_PermianBasin_StudyArea_NAD27.shp'\n",
    "df = gpd.read_file(shp)\n",
    "df.plot()"
   ]
  },
  {
   "cell_type": "markdown",
   "metadata": {},
   "source": [
    "# Import the GBDX helper functions and a sample query\n",
    "## Have a look at keyword options for the query function"
   ]
  },
  {
   "cell_type": "code",
   "execution_count": 5,
   "metadata": {},
   "outputs": [
    {
     "name": "stdout",
     "output_type": "stream",
     "text": [
      "Help on function query_gbdx_by_geometry in module gbdx_helpers:\n",
      "\n",
      "query_gbdx_by_geometry(geom, query, count=5000, min_year=2000, max_year=2020, out_epsg=None)\n",
      "\n"
     ]
    }
   ],
   "source": [
    "from gbdx_helpers import query_gbdx_by_geometry, sample_query, reduce_gbdx_results\n",
    "help(query_gbdx_by_geometry)"
   ]
  },
  {
   "cell_type": "markdown",
   "metadata": {},
   "source": [
    "## Look at the example query and edit accordingly. \n",
    "### Mine is looking only for WorldView-2/3/4"
   ]
  },
  {
   "cell_type": "code",
   "execution_count": 6,
   "metadata": {},
   "outputs": [
    {
     "name": "stdout",
     "output_type": "stream",
     "text": [
      "item_type:WV03_VNIR OR item_type:WV02 OR item_type:WV04 OR item_type:ESAProduct\n"
     ]
    }
   ],
   "source": [
    "print(sample_query)\n",
    "sample_query = 'item_type:WV03_VNIR OR item_type:WV02 OR item_type:WV04'"
   ]
  },
  {
   "cell_type": "markdown",
   "metadata": {},
   "source": [
    "## Make sure the dataframe is in WGS84 for the query (epsg=4326)"
   ]
  },
  {
   "cell_type": "code",
   "execution_count": null,
   "metadata": {
    "scrolled": true
   },
   "outputs": [],
   "source": [
    "geom = df.to_crs(epsg=4326)\n",
    "res = query_gbdx_by_geometry(geom, sample_query)"
   ]
  },
  {
   "cell_type": "markdown",
   "metadata": {},
   "source": [
    "## GBDX tends to give multiple results for the same CatalogID. Optionally reduce the results which takes the first entry for each unique CatalogID in the search results"
   ]
  },
  {
   "cell_type": "code",
   "execution_count": null,
   "metadata": {},
   "outputs": [],
   "source": [
    "test = reduce_gbdx_results(res)\n",
    "test.plot(), test.shape"
   ]
  },
  {
   "cell_type": "markdown",
   "metadata": {},
   "source": [
    "## Compare the original number of search results to the reduced number"
   ]
  },
  {
   "cell_type": "code",
   "execution_count": null,
   "metadata": {},
   "outputs": [],
   "source": [
    "res.shape, test.shape"
   ]
  },
  {
   "cell_type": "markdown",
   "metadata": {},
   "source": [
    "## Plot the scene geometries (blue) over the search geometry (red)"
   ]
  },
  {
   "cell_type": "code",
   "execution_count": null,
   "metadata": {},
   "outputs": [],
   "source": [
    "ax = geom.plot(color='r', alpha=0.2, figsize=(10,10))\n",
    "test.plot(ax=ax, alpha=0.1)\n"
   ]
  },
  {
   "cell_type": "markdown",
   "metadata": {},
   "source": [
    "## Write out the results to a shapefile\n",
    "#### This operation needs at least the geometry column, as denoted in the assignment to `save_shp`. I've also included the `month`, `day`, `year` fields here, but one could also include the `properties.attributes.platformName` in that list in order to have the satellite name as a field. The `.rename` code replaces the `.` character with the `_` character so that it is valid for a shapefile column name."
   ]
  },
  {
   "cell_type": "code",
   "execution_count": null,
   "metadata": {},
   "outputs": [],
   "source": [
    "out_shp = r'C:\\Projects\\permian_basin\\dg_results\\dg_permian_basin_WV020304.shp'\n",
    "\n",
    "save_shp = test[['geometry','properties.attributes.catalogID', 'month', 'day', 'year']]\n",
    "save_shp.rename(columns={col: col.replace('.','_') for col in save_shp.columns}).to_file(out_shp)"
   ]
  },
  {
   "cell_type": "markdown",
   "metadata": {},
   "source": [
    "## Optionally, clip the scene geometries by the search geometry"
   ]
  },
  {
   "cell_type": "code",
   "execution_count": null,
   "metadata": {},
   "outputs": [],
   "source": [
    "clipped = gpd.overlay(geom, test)\n",
    "clipped.plot(alpha=0.1, figsize=(10,10))"
   ]
  },
  {
   "cell_type": "markdown",
   "metadata": {},
   "source": [
    "## Similarly, write out the clipped scene geometries to a shape file"
   ]
  },
  {
   "cell_type": "code",
   "execution_count": null,
   "metadata": {},
   "outputs": [],
   "source": [
    "clipped_out_shp = r'C:\\Projects\\permian_basin\\dg_results\\clipped_dg_permian_basin_WV020304.shp'\n",
    "save_shp = clipped[['geometry','properties.attributes.catalogID', 'month', 'day', 'year']]\n",
    "save_shp.rename(columns={col: col.replace('.','_') for col in save_shp.columns}).to_file(clipped_out_shp)"
   ]
  },
  {
   "cell_type": "markdown",
   "metadata": {},
   "source": [
    "## check yearly distribution\n"
   ]
  },
  {
   "cell_type": "code",
   "execution_count": null,
   "metadata": {},
   "outputs": [],
   "source": [
    "test.hist(column='year')"
   ]
  },
  {
   "cell_type": "code",
   "execution_count": null,
   "metadata": {},
   "outputs": [],
   "source": []
  }
 ],
 "metadata": {
  "kernelspec": {
   "display_name": "Python [conda env:eapy_gbdx]",
   "language": "python",
   "name": "conda-env-eapy_gbdx-py"
  },
  "language_info": {
   "codemirror_mode": {
    "name": "ipython",
    "version": 3
   },
   "file_extension": ".py",
   "mimetype": "text/x-python",
   "name": "python",
   "nbconvert_exporter": "python",
   "pygments_lexer": "ipython3",
   "version": "3.6.4"
  }
 },
 "nbformat": 4,
 "nbformat_minor": 2
}
